{
 "cells": [
  {
   "cell_type": "markdown",
   "id": "41df66f0-9815-4dce-bdc7-41896a98a43a",
   "metadata": {},
   "source": [
    "# Tuning a Convolutional Network"
   ]
  },
  {
   "cell_type": "markdown",
   "id": "61cf6ea7",
   "metadata": {},
   "source": [
    "## Setup"
   ]
  },
  {
   "cell_type": "code",
   "execution_count": 1,
   "id": "42258a4e-c217-46e7-a969-30635cb8d3dc",
   "metadata": {},
   "outputs": [
    {
     "name": "stderr",
     "output_type": "stream",
     "text": [
      "/Users/simanerush/anaconda3/envs/dl-class/lib/python3.11/site-packages/torchvision/io/image.py:13: UserWarning: Failed to load image Python extension: 'dlopen(/Users/simanerush/anaconda3/envs/dl-class/lib/python3.11/site-packages/torchvision/image.so, 0x0006): Symbol not found: __ZN3c1017RegisterOperatorsD1Ev\n",
      "  Referenced from: <CFED5F8E-EC3F-36FD-AAA3-2C6C7F8D3DD9> /Users/simanerush/anaconda3/envs/dl-class/lib/python3.11/site-packages/torchvision/image.so\n",
      "  Expected in:     <E459C462-F863-3A5A-AC9F-FD77B14BE845> /Users/simanerush/anaconda3/envs/dl-class/lib/python3.11/site-packages/torch/lib/libtorch_cpu.dylib'If you don't plan on using image functionality from `torchvision.io`, you can ignore this warning. Otherwise, there might be something wrong with your environment. Did you have `libjpeg` or `libpng` installed before building `torchvision` from source?\n",
      "  warn(\n"
     ]
    }
   ],
   "source": [
    "import torch\n",
    "import torch.nn as nn\n",
    "import torch.optim as optim\n",
    "import torchvision\n",
    "torchvision.disable_beta_transforms_warning()\n",
    "import torchvision.transforms.v2 as transforms\n",
    "\n",
    "import numpy as np\n",
    "import matplotlib.pyplot as plt\n",
    "from tqdm import tqdm\n",
    "%matplotlib inline\n",
    "%config InlineRenderer.figure_format = 'retina'\n",
    "\n",
    "import torch.utils.tensorboard as tb\n",
    "\n",
    "log_dir = 'logs'"
   ]
  },
  {
   "cell_type": "code",
   "execution_count": 2,
   "id": "3358251f",
   "metadata": {},
   "outputs": [
    {
     "name": "stdout",
     "output_type": "stream",
     "text": [
      "Files already downloaded and verified\n",
      "50000\n"
     ]
    }
   ],
   "source": [
    "transform = transforms.Compose([\n",
    "    transforms.ToImageTensor(),\n",
    "    transforms.ConvertImageDtype()\n",
    "])\n",
    "\n",
    "cifar = torchvision.datasets.CIFAR10(\"../../data/torch/cifar\", download=True, transform=transform)\n",
    "train_size = int(0.8 * len(cifar))\n",
    "train_data, valid_data = torch.utils.data.random_split(cifar, [train_size, len(cifar) - train_size])\n",
    "\n",
    "classes = ['plane', 'car', 'bird', 'cat', 'deer', 'dog', 'frog', 'horse', 'ship', 'truck']\n",
    "\n",
    "print(len(cifar))"
   ]
  },
  {
   "cell_type": "code",
   "execution_count": 3,
   "id": "2d81fbb5",
   "metadata": {},
   "outputs": [
    {
     "name": "stdout",
     "output_type": "stream",
     "text": [
      "tensor([0.4914, 0.4822, 0.4465]) tensor([0.2470, 0.2435, 0.2616])\n"
     ]
    }
   ],
   "source": [
    "mean = []\n",
    "for x, _ in cifar:\n",
    "    mean.append(torch.mean(x, dim=(1, 2)))\n",
    "mean = torch.stack(mean, dim=0).mean(dim=0)\n",
    "std = []\n",
    "for x, _ in cifar:\n",
    "    std.append(((x - mean[:,np.newaxis,np.newaxis]) ** 2).mean(dim=(1, 2)))\n",
    "std = torch.stack(std, dim=0).mean(dim=0).sqrt()\n",
    "print(mean, std)"
   ]
  },
  {
   "cell_type": "code",
   "execution_count": 4,
   "id": "eb058998",
   "metadata": {},
   "outputs": [
    {
     "name": "stdout",
     "output_type": "stream",
     "text": [
      "mps\n"
     ]
    }
   ],
   "source": [
    "cifar_mean = (0.4914, 0.4822, 0.4465)\n",
    "cifar_std = (0.2470, 0.2435, 0.2616)\n",
    "\n",
    "normalize = transforms.Normalize(cifar_mean, cifar_std)\n",
    "\n",
    "if torch.backends.mps.is_available():\n",
    "    device = torch.device('mps')\n",
    "else:\n",
    "    device = 'cpu'\n",
    "print(device)"
   ]
  },
  {
   "cell_type": "markdown",
   "id": "2a88f962",
   "metadata": {},
   "source": [
    "## CNN Model\n",
    "\n"
   ]
  },
  {
   "cell_type": "markdown",
   "id": "20eab0d8",
   "metadata": {},
   "source": [
    "This is the model from the previous HW, let's see if it's possible to improve it."
   ]
  },
  {
   "cell_type": "code",
   "execution_count": 5,
   "id": "bc989b36",
   "metadata": {},
   "outputs": [],
   "source": [
    "class CNN(nn.Module):\n",
    "\n",
    "    def __init__(self):\n",
    "        # 5 layers is normal\n",
    "        super().__init__()\n",
    "        self.conv1 = nn.Conv2d(3, 8, 3, padding=3)\n",
    "        self.relu1 = nn.ReLU()\n",
    "\n",
    "        self.conv2 = nn.Conv2d(8, 16, 3, groups=2, stride=2, padding=1)\n",
    "        self.relu2 = nn.ReLU()\n",
    "\n",
    "        self.conv3 = nn.Conv2d(16, 32, 3, stride=2)\n",
    "\n",
    "        self.flatten = nn.Flatten()\n",
    "        self.fc = nn.Linear(32*8*8, 10)\n",
    "\n",
    "    def forward(self, x):\n",
    "        x = self.conv1(x)\n",
    "        x = self.relu1(x)\n",
    "        x = self.conv2(x)\n",
    "        x = self.relu2(x)\n",
    "        x = self.conv3(x)\n",
    "        x = self.flatten(x)\n",
    "        x = self.fc(x)\n",
    "        return x"
   ]
  },
  {
   "cell_type": "markdown",
   "id": "628f0d5f",
   "metadata": {},
   "source": [
    "Training function:"
   ]
  },
  {
   "cell_type": "code",
   "execution_count": 70,
   "id": "1d86cb2c",
   "metadata": {},
   "outputs": [],
   "source": [
    "def train(model_class=CNN, lr=1e-2, epochs=10, batch_size=64, reg=1e-4, use_augmentation=False, aug_params=None):\n",
    " \n",
    "    data_loader = torch.utils.data.DataLoader(train_data, batch_size=batch_size, shuffle=True)\n",
    "    valid_loader = torch.utils.data.DataLoader(valid_data, batch_size=batch_size, shuffle=False)\n",
    "\n",
    "    if use_augmentation:\n",
    "        augments = transforms.Compose([\n",
    "            transforms.RandomHorizontalFlip(aug_params['flip_prob']),\n",
    "            transforms.RandomGrayscale(aug_params['grayscale_prob']),\n",
    "            transforms.ColorJitter(\n",
    "                brightness=(aug_params['bright_min'], aug_params['bright_max']),\n",
    "                contrast=0,\n",
    "                saturation=0,\n",
    "                hue=0),\n",
    "            transforms.RandomCrop(\n",
    "                size=32,\n",
    "                padding=aug_params['shift_size'],\n",
    "                fill=cifar_mean)\n",
    "        ])\n",
    "    \n",
    "    model_type = ''\n",
    "    if model_class == CNN:\n",
    "        network = CNN()\n",
    "        model_type = 'CNN'\n",
    "    elif model_class == CNN2:\n",
    "        network = CNN2()\n",
    "        model_type = 'CNN2'\n",
    "    elif model_class == CNN3:\n",
    "        network = CNN3()\n",
    "        model_type = 'CNN3'\n",
    "    elif model_class == CNN4:\n",
    "        network = CNN4()\n",
    "        model_type = 'CNN4'\n",
    "    elif model_class == CNN5:\n",
    "        network = CNN5()\n",
    "        model_type = 'CNN5'\n",
    "\n",
    "    network = network.to(device)\n",
    "\n",
    "    logger = tb.SummaryWriter(log_dir + '/' + model_type + '-lr-' + str(lr) + '-epochs-' + str(epochs))\n",
    "\n",
    "    global_step = 0\n",
    "    \n",
    "    loss = nn.CrossEntropyLoss()\n",
    "    opt = optim.SGD(network.parameters(), momentum=0.9, lr=lr, weight_decay=reg)\n",
    "    \n",
    "    valid_accs = []\n",
    "\n",
    "    for i in tqdm(range(epochs)):\n",
    "        network.train()\n",
    "        for batch_xs, batch_ys in data_loader:\n",
    "            if use_augmentation:\n",
    "                batch_xs = augments(batch_xs)\n",
    "\n",
    "            batch_xs = batch_xs.to(device)\n",
    "            batch_ys = batch_ys.to(device)\n",
    "            \n",
    "            batch_xs = normalize(batch_xs)\n",
    "            preds = network(batch_xs)\n",
    "            loss_val = loss(preds, batch_ys)\n",
    "            acc = (preds.argmax(dim=1) == batch_ys).float().mean()\n",
    "\n",
    "            # Track loss and traning accuracy.\n",
    "            logger.add_scalar('loss', loss_val, global_step=global_step)\n",
    "            logger.add_scalar('training accuracy', acc, global_step=global_step)\n",
    "\n",
    "            global_step += 1\n",
    "\n",
    "            opt.zero_grad()\n",
    "            loss_val.backward()\n",
    "            opt.step()\n",
    "        \n",
    "        network.eval()\n",
    "        # Measure validation accuracy.\n",
    "        for batch_xs, batch_ys in valid_loader:\n",
    "            batch_xs = batch_xs.to(device)\n",
    "            batch_ys = batch_ys.to(device)\n",
    "            \n",
    "            batch_xs = normalize(batch_xs)\n",
    "            preds = network(batch_xs)\n",
    "            valid_accs.append((preds.argmax(dim=1) == batch_ys).float().mean().item())\n",
    "\n",
    "        if (i + 1) % 5 == 0:\n",
    "            print(\"Epoch:\", i, \"Validation accuracy:\", torch.tensor(valid_accs).mean().item())\n",
    "        logger.add_scalar('validation accuracy', torch.tensor(valid_accs).mean(), global_step=global_step)\n",
    "\n",
    "\n",
    "    return network"
   ]
  },
  {
   "cell_type": "markdown",
   "id": "35b7ef3a",
   "metadata": {},
   "source": [
    "## Tuning"
   ]
  },
  {
   "cell_type": "markdown",
   "id": "0f03b97c",
   "metadata": {},
   "source": [
    "The default arguments to the training function are as follows:\n",
    "- Learning rate `lr`: 1e-2\n",
    "- Epochs number `epochs`: 10\n",
    "- Batch size `batch_size`: 64\n",
    "- Regularization `reg`: 1e-4 (based on the [Medium article](https://medium.com/analytics-vidhya/deep-learning-basics-weight-decay-3c68eb4344e9))\n",
    "- Augmentation: None\n",
    "\n",
    "\n",
    "The TensorBoard logger is tracking loss, and training accuracy for each batch. It is also tracking validation accuracy for each epoch.\n",
    "\n",
    "First, let's try to train with the default parameters described above.\n",
    "\n",
    "The straregy is to first find a learning rate that works with this architecture and try to change it in some way.\n"
   ]
  },
  {
   "cell_type": "code",
   "execution_count": 75,
   "id": "6f689e31",
   "metadata": {},
   "outputs": [
    {
     "data": {
      "text/plain": [
       "Reusing TensorBoard on port 6006 (pid 8566), started 5:04:48 ago. (Use '!kill 8566' to kill it.)"
      ]
     },
     "metadata": {},
     "output_type": "display_data"
    },
    {
     "data": {
      "text/html": [
       "\n",
       "      <iframe id=\"tensorboard-frame-e393631bd3baeb0\" width=\"100%\" height=\"800\" frameborder=\"0\">\n",
       "      </iframe>\n",
       "      <script>\n",
       "        (function() {\n",
       "          const frame = document.getElementById(\"tensorboard-frame-e393631bd3baeb0\");\n",
       "          const url = new URL(\"http://localhost\");\n",
       "          const port = 6006;\n",
       "          if (port) {\n",
       "            url.port = port;\n",
       "          }\n",
       "          frame.src = url;\n",
       "        })();\n",
       "      </script>\n",
       "    "
      ],
      "text/plain": [
       "<IPython.core.display.HTML object>"
      ]
     },
     "metadata": {},
     "output_type": "display_data"
    }
   ],
   "source": [
    "%reload_ext tensorboard\n",
    "%tensorboard --logdir {log_dir}"
   ]
  },
  {
   "cell_type": "code",
   "execution_count": 13,
   "id": "37cb32b3",
   "metadata": {},
   "outputs": [
    {
     "name": "stderr",
     "output_type": "stream",
     "text": [
      " 10%|█         | 1/10 [00:06<00:54,  6.09s/it]"
     ]
    },
    {
     "name": "stdout",
     "output_type": "stream",
     "text": [
      "Epoch: 0 Validation accuracy: 0.48696258664131165\n"
     ]
    },
    {
     "name": "stderr",
     "output_type": "stream",
     "text": [
      " 20%|██        | 2/10 [00:12<00:48,  6.08s/it]"
     ]
    },
    {
     "name": "stdout",
     "output_type": "stream",
     "text": [
      "Epoch: 1 Validation accuracy: 0.5178642272949219\n"
     ]
    },
    {
     "name": "stderr",
     "output_type": "stream",
     "text": [
      " 30%|███       | 3/10 [00:18<00:42,  6.06s/it]"
     ]
    },
    {
     "name": "stdout",
     "output_type": "stream",
     "text": [
      "Epoch: 2 Validation accuracy: 0.5311504602432251\n"
     ]
    },
    {
     "name": "stderr",
     "output_type": "stream",
     "text": [
      " 40%|████      | 4/10 [00:24<00:36,  6.12s/it]"
     ]
    },
    {
     "name": "stdout",
     "output_type": "stream",
     "text": [
      "Epoch: 3 Validation accuracy: 0.5451333522796631\n"
     ]
    },
    {
     "name": "stderr",
     "output_type": "stream",
     "text": [
      " 50%|█████     | 5/10 [00:30<00:30,  6.11s/it]"
     ]
    },
    {
     "name": "stdout",
     "output_type": "stream",
     "text": [
      "Epoch: 4 Validation accuracy: 0.5542794466018677\n"
     ]
    },
    {
     "name": "stderr",
     "output_type": "stream",
     "text": [
      " 60%|██████    | 6/10 [00:36<00:24,  6.10s/it]"
     ]
    },
    {
     "name": "stdout",
     "output_type": "stream",
     "text": [
      "Epoch: 5 Validation accuracy: 0.5604265928268433\n"
     ]
    },
    {
     "name": "stderr",
     "output_type": "stream",
     "text": [
      " 70%|███████   | 7/10 [00:42<00:18,  6.07s/it]"
     ]
    },
    {
     "name": "stdout",
     "output_type": "stream",
     "text": [
      "Epoch: 6 Validation accuracy: 0.564078152179718\n"
     ]
    },
    {
     "name": "stderr",
     "output_type": "stream",
     "text": [
      " 80%|████████  | 8/10 [00:48<00:12,  6.16s/it]"
     ]
    },
    {
     "name": "stdout",
     "output_type": "stream",
     "text": [
      "Epoch: 7 Validation accuracy: 0.5678741931915283\n"
     ]
    },
    {
     "name": "stderr",
     "output_type": "stream",
     "text": [
      " 90%|█████████ | 9/10 [00:54<00:06,  6.13s/it]"
     ]
    },
    {
     "name": "stdout",
     "output_type": "stream",
     "text": [
      "Epoch: 8 Validation accuracy: 0.5695992708206177\n"
     ]
    },
    {
     "name": "stderr",
     "output_type": "stream",
     "text": [
      "100%|██████████| 10/10 [01:01<00:00,  6.10s/it]"
     ]
    },
    {
     "name": "stdout",
     "output_type": "stream",
     "text": [
      "Epoch: 9 Validation accuracy: 0.5718252658843994\n"
     ]
    },
    {
     "name": "stderr",
     "output_type": "stream",
     "text": [
      "\n"
     ]
    }
   ],
   "source": [
    "model1_default = train()"
   ]
  },
  {
   "cell_type": "markdown",
   "id": "d72982b4",
   "metadata": {},
   "source": [
    "I got accuracy 57% with the starting learning rate of 1e-2. Let's try 3e-2, a larger learning rate:"
   ]
  },
  {
   "cell_type": "code",
   "execution_count": 15,
   "id": "67a4906f",
   "metadata": {},
   "outputs": [
    {
     "name": "stderr",
     "output_type": "stream",
     "text": [
      " 10%|█         | 1/10 [00:05<00:52,  5.84s/it]"
     ]
    },
    {
     "name": "stdout",
     "output_type": "stream",
     "text": [
      "Epoch: 0 Validation accuracy: 0.48895302414894104\n"
     ]
    },
    {
     "name": "stderr",
     "output_type": "stream",
     "text": [
      " 20%|██        | 2/10 [00:11<00:47,  5.91s/it]"
     ]
    },
    {
     "name": "stdout",
     "output_type": "stream",
     "text": [
      "Epoch: 1 Validation accuracy: 0.5183120965957642\n"
     ]
    },
    {
     "name": "stderr",
     "output_type": "stream",
     "text": [
      " 30%|███       | 3/10 [00:17<00:41,  5.86s/it]"
     ]
    },
    {
     "name": "stdout",
     "output_type": "stream",
     "text": [
      "Epoch: 2 Validation accuracy: 0.5298566818237305\n"
     ]
    },
    {
     "name": "stderr",
     "output_type": "stream",
     "text": [
      " 40%|████      | 4/10 [00:23<00:34,  5.83s/it]"
     ]
    },
    {
     "name": "stdout",
     "output_type": "stream",
     "text": [
      "Epoch: 3 Validation accuracy: 0.5333399772644043\n"
     ]
    },
    {
     "name": "stderr",
     "output_type": "stream",
     "text": [
      " 50%|█████     | 5/10 [00:29<00:29,  5.81s/it]"
     ]
    },
    {
     "name": "stdout",
     "output_type": "stream",
     "text": [
      "Epoch: 4 Validation accuracy: 0.5389530062675476\n"
     ]
    },
    {
     "name": "stderr",
     "output_type": "stream",
     "text": [
      " 60%|██████    | 6/10 [00:35<00:23,  5.84s/it]"
     ]
    },
    {
     "name": "stdout",
     "output_type": "stream",
     "text": [
      "Epoch: 5 Validation accuracy: 0.5401240587234497\n"
     ]
    },
    {
     "name": "stderr",
     "output_type": "stream",
     "text": [
      " 70%|███████   | 7/10 [00:41<00:17,  5.93s/it]"
     ]
    },
    {
     "name": "stdout",
     "output_type": "stream",
     "text": [
      "Epoch: 6 Validation accuracy: 0.5390838384628296\n"
     ]
    },
    {
     "name": "stderr",
     "output_type": "stream",
     "text": [
      " 80%|████████  | 8/10 [00:47<00:11,  5.97s/it]"
     ]
    },
    {
     "name": "stdout",
     "output_type": "stream",
     "text": [
      "Epoch: 7 Validation accuracy: 0.5397716164588928\n"
     ]
    },
    {
     "name": "stderr",
     "output_type": "stream",
     "text": [
      " 90%|█████████ | 9/10 [00:53<00:05,  5.98s/it]"
     ]
    },
    {
     "name": "stdout",
     "output_type": "stream",
     "text": [
      "Epoch: 8 Validation accuracy: 0.544221043586731\n"
     ]
    },
    {
     "name": "stderr",
     "output_type": "stream",
     "text": [
      "100%|██████████| 10/10 [00:59<00:00,  5.92s/it]"
     ]
    },
    {
     "name": "stdout",
     "output_type": "stream",
     "text": [
      "Epoch: 9 Validation accuracy: 0.5459494590759277\n"
     ]
    },
    {
     "name": "stderr",
     "output_type": "stream",
     "text": [
      "\n"
     ]
    }
   ],
   "source": [
    "model2_large_lr = train(lr=3e-2)"
   ]
  },
  {
   "cell_type": "markdown",
   "id": "ab370583",
   "metadata": {},
   "source": [
    "This gave worse results, so let's stick with `1e-2`, increase number of epochs and add augmentation:"
   ]
  },
  {
   "cell_type": "code",
   "execution_count": 22,
   "id": "82de4928",
   "metadata": {},
   "outputs": [
    {
     "name": "stderr",
     "output_type": "stream",
     "text": [
      "  0%|          | 0/20 [00:00<?, ?it/s]"
     ]
    },
    {
     "name": "stderr",
     "output_type": "stream",
     "text": [
      "  5%|▌         | 1/20 [00:06<01:59,  6.29s/it]"
     ]
    },
    {
     "name": "stdout",
     "output_type": "stream",
     "text": [
      "Epoch: 0 Validation accuracy: 0.43680334091186523\n"
     ]
    },
    {
     "name": "stderr",
     "output_type": "stream",
     "text": [
      " 10%|█         | 2/20 [00:12<01:52,  6.23s/it]"
     ]
    },
    {
     "name": "stdout",
     "output_type": "stream",
     "text": [
      "Epoch: 1 Validation accuracy: 0.47526872158050537\n"
     ]
    },
    {
     "name": "stderr",
     "output_type": "stream",
     "text": [
      " 15%|█▌        | 3/20 [00:18<01:45,  6.20s/it]"
     ]
    },
    {
     "name": "stdout",
     "output_type": "stream",
     "text": [
      "Epoch: 2 Validation accuracy: 0.5010947585105896\n"
     ]
    },
    {
     "name": "stderr",
     "output_type": "stream",
     "text": [
      " 20%|██        | 4/20 [00:24<01:39,  6.19s/it]"
     ]
    },
    {
     "name": "stdout",
     "output_type": "stream",
     "text": [
      "Epoch: 3 Validation accuracy: 0.5183370113372803\n"
     ]
    },
    {
     "name": "stderr",
     "output_type": "stream",
     "text": [
      " 25%|██▌       | 5/20 [00:31<01:32,  6.19s/it]"
     ]
    },
    {
     "name": "stdout",
     "output_type": "stream",
     "text": [
      "Epoch: 4 Validation accuracy: 0.5355692505836487\n"
     ]
    },
    {
     "name": "stderr",
     "output_type": "stream",
     "text": [
      " 30%|███       | 6/20 [00:37<01:26,  6.19s/it]"
     ]
    },
    {
     "name": "stdout",
     "output_type": "stream",
     "text": [
      "Epoch: 5 Validation accuracy: 0.545166552066803\n"
     ]
    },
    {
     "name": "stderr",
     "output_type": "stream",
     "text": [
      " 35%|███▌      | 7/20 [00:43<01:20,  6.18s/it]"
     ]
    },
    {
     "name": "stdout",
     "output_type": "stream",
     "text": [
      "Epoch: 6 Validation accuracy: 0.5549931526184082\n"
     ]
    },
    {
     "name": "stderr",
     "output_type": "stream",
     "text": [
      " 40%|████      | 8/20 [00:49<01:14,  6.18s/it]"
     ]
    },
    {
     "name": "stdout",
     "output_type": "stream",
     "text": [
      "Epoch: 7 Validation accuracy: 0.561989963054657\n"
     ]
    },
    {
     "name": "stderr",
     "output_type": "stream",
     "text": [
      " 45%|████▌     | 9/20 [00:55<01:07,  6.18s/it]"
     ]
    },
    {
     "name": "stdout",
     "output_type": "stream",
     "text": [
      "Epoch: 8 Validation accuracy: 0.5683828592300415\n"
     ]
    },
    {
     "name": "stderr",
     "output_type": "stream",
     "text": [
      " 50%|█████     | 10/20 [01:01<01:01,  6.18s/it]"
     ]
    },
    {
     "name": "stdout",
     "output_type": "stream",
     "text": [
      "Epoch: 9 Validation accuracy: 0.5729398727416992\n"
     ]
    },
    {
     "name": "stderr",
     "output_type": "stream",
     "text": [
      " 55%|█████▌    | 11/20 [01:08<00:55,  6.21s/it]"
     ]
    },
    {
     "name": "stdout",
     "output_type": "stream",
     "text": [
      "Epoch: 10 Validation accuracy: 0.5768492817878723\n"
     ]
    },
    {
     "name": "stderr",
     "output_type": "stream",
     "text": [
      " 60%|██████    | 12/20 [01:14<00:50,  6.31s/it]"
     ]
    },
    {
     "name": "stdout",
     "output_type": "stream",
     "text": [
      "Epoch: 11 Validation accuracy: 0.5812350511550903\n"
     ]
    },
    {
     "name": "stderr",
     "output_type": "stream",
     "text": [
      " 65%|██████▌   | 13/20 [01:21<00:44,  6.31s/it]"
     ]
    },
    {
     "name": "stdout",
     "output_type": "stream",
     "text": [
      "Epoch: 12 Validation accuracy: 0.5848695635795593\n"
     ]
    },
    {
     "name": "stderr",
     "output_type": "stream",
     "text": [
      " 70%|███████   | 14/20 [01:27<00:38,  6.35s/it]"
     ]
    },
    {
     "name": "stdout",
     "output_type": "stream",
     "text": [
      "Epoch: 13 Validation accuracy: 0.5875725150108337\n"
     ]
    },
    {
     "name": "stderr",
     "output_type": "stream",
     "text": [
      " 75%|███████▌  | 15/20 [01:33<00:31,  6.36s/it]"
     ]
    },
    {
     "name": "stdout",
     "output_type": "stream",
     "text": [
      "Epoch: 14 Validation accuracy: 0.5896961092948914\n"
     ]
    },
    {
     "name": "stderr",
     "output_type": "stream",
     "text": [
      " 80%|████████  | 16/20 [01:40<00:25,  6.36s/it]"
     ]
    },
    {
     "name": "stdout",
     "output_type": "stream",
     "text": [
      "Epoch: 15 Validation accuracy: 0.5920083522796631\n"
     ]
    },
    {
     "name": "stderr",
     "output_type": "stream",
     "text": [
      " 85%|████████▌ | 17/20 [01:46<00:19,  6.35s/it]"
     ]
    },
    {
     "name": "stdout",
     "output_type": "stream",
     "text": [
      "Epoch: 16 Validation accuracy: 0.5938612222671509\n"
     ]
    },
    {
     "name": "stderr",
     "output_type": "stream",
     "text": [
      " 90%|█████████ | 18/20 [01:52<00:12,  6.35s/it]"
     ]
    },
    {
     "name": "stdout",
     "output_type": "stream",
     "text": [
      "Epoch: 17 Validation accuracy: 0.5956630110740662\n"
     ]
    },
    {
     "name": "stderr",
     "output_type": "stream",
     "text": [
      " 95%|█████████▌| 19/20 [01:59<00:06,  6.31s/it]"
     ]
    },
    {
     "name": "stdout",
     "output_type": "stream",
     "text": [
      "Epoch: 18 Validation accuracy: 0.5981447100639343\n"
     ]
    },
    {
     "name": "stderr",
     "output_type": "stream",
     "text": [
      "100%|██████████| 20/20 [02:05<00:00,  6.27s/it]"
     ]
    },
    {
     "name": "stdout",
     "output_type": "stream",
     "text": [
      "Epoch: 19 Validation accuracy: 0.5996516942977905\n"
     ]
    },
    {
     "name": "stderr",
     "output_type": "stream",
     "text": [
      "\n"
     ]
    }
   ],
   "source": [
    "aug_params = {\n",
    "    'flip_prob': 0.5,\n",
    "    'grayscale_prob': 0.1,\n",
    "    'bright_min': 0.9,\n",
    "    'bright_max': 1.1,\n",
    "    'shift_size': 2\n",
    "}\n",
    "\n",
    "model3_epochs_aug = train(epochs=20, use_augmentation=True, aug_params=aug_params)"
   ]
  },
  {
   "cell_type": "markdown",
   "id": "cad6ff0b",
   "metadata": {},
   "source": [
    "Let's use these parameters and define a new model that will hopefully perform better."
   ]
  },
  {
   "cell_type": "code",
   "execution_count": 46,
   "id": "19282ead",
   "metadata": {},
   "outputs": [],
   "source": [
    "class CNN2(nn.Module):\n",
    "\n",
    "    def __init__(self):\n",
    "        super().__init__()\n",
    "\n",
    "        # 32x32\n",
    "        self.conv1 = nn.Conv2d(3, 8, 3, padding=1)\n",
    "        self.relu1 = nn.ReLU()\n",
    "\n",
    "        # 32x32\n",
    "        self.conv2 = nn.Conv2d(8, 16, 3, groups=2, padding=1)\n",
    "        # 16x16\n",
    "        self.maxpool1 = nn.MaxPool2d(2, 2)\n",
    "\n",
    "        # 16x16\n",
    "        self.conv3 = nn.Conv2d(16, 32, 2, padding=1)\n",
    "        # 8x8\n",
    "        self.maxpool2 = nn.MaxPool2d(2, 2)\n",
    "\n",
    "        # 8x8\n",
    "        self.conv4 = nn.Conv2d(32, 64, 2, padding=1)\n",
    "        # 4x4\n",
    "        self.maxpool3 = nn.MaxPool2d(2, 2)\n",
    "        \n",
    "        # 6x6 (added padding)\n",
    "        self.conv5 = nn.Conv2d(64, 128, 3, padding=2)\n",
    "        # 3x3\n",
    "        self.maxpool4 = nn.MaxPool2d(2, 2)\n",
    "\n",
    "        # 6x6\n",
    "        self.avgpool = nn.AdaptiveAvgPool2d(6)\n",
    "\n",
    "        # 6x6x128\n",
    "        self.flatten = nn.Flatten()\n",
    "        self.fc = nn.Linear(6*6*128, 10)\n",
    "\n",
    "    def forward(self, x):\n",
    "        x = self.conv1(x)\n",
    "        x = self.relu1(x)\n",
    "        x = self.conv2(x)\n",
    "        x = self.maxpool1(x)\n",
    "        x = self.conv3(x)\n",
    "        x = self.maxpool2(x)\n",
    "        x = self.conv4(x)\n",
    "        x = self.maxpool3(x)\n",
    "        x = self.conv5(x)\n",
    "        x = self.maxpool4(x)\n",
    "        x = self.avgpool(x)\n",
    "        x = self.flatten(x)\n",
    "        x = self.fc(x)\n",
    "        return x"
   ]
  },
  {
   "cell_type": "markdown",
   "id": "47e0a2da",
   "metadata": {},
   "source": [
    "Let's train using the above network. Note how I increased the number of convolutional layers. I used maxpools in addition to ReLU in between layers, and removed some strides to not lose too much information. I recorded dimentions of the image after each transformation."
   ]
  },
  {
   "cell_type": "code",
   "execution_count": 47,
   "id": "d46842d6",
   "metadata": {},
   "outputs": [
    {
     "name": "stderr",
     "output_type": "stream",
     "text": [
      "  0%|          | 0/20 [00:00<?, ?it/s]"
     ]
    },
    {
     "name": "stderr",
     "output_type": "stream",
     "text": [
      " 25%|██▌       | 5/20 [00:42<02:06,  8.41s/it]"
     ]
    },
    {
     "name": "stdout",
     "output_type": "stream",
     "text": [
      "Epoch: 4 Validation accuracy: 0.6532842516899109\n"
     ]
    },
    {
     "name": "stderr",
     "output_type": "stream",
     "text": [
      " 50%|█████     | 10/20 [01:25<01:25,  8.52s/it]"
     ]
    },
    {
     "name": "stdout",
     "output_type": "stream",
     "text": [
      "Epoch: 9 Validation accuracy: 0.6910131573677063\n"
     ]
    },
    {
     "name": "stderr",
     "output_type": "stream",
     "text": [
      " 75%|███████▌  | 15/20 [02:07<00:41,  8.36s/it]"
     ]
    },
    {
     "name": "stdout",
     "output_type": "stream",
     "text": [
      "Epoch: 14 Validation accuracy: 0.706601619720459\n"
     ]
    },
    {
     "name": "stderr",
     "output_type": "stream",
     "text": [
      "100%|██████████| 20/20 [02:49<00:00,  8.46s/it]"
     ]
    },
    {
     "name": "stdout",
     "output_type": "stream",
     "text": [
      "Epoch: 19 Validation accuracy: 0.7163962721824646\n"
     ]
    },
    {
     "name": "stderr",
     "output_type": "stream",
     "text": [
      "\n"
     ]
    }
   ],
   "source": [
    "model_cnn2 = train(model_class=CNN2, epochs=20, use_augmentation=True, aug_params=aug_params)"
   ]
  },
  {
   "cell_type": "markdown",
   "id": "ad86f81e",
   "metadata": {},
   "source": [
    "Wow! I achieved 71% accuracy with the `CNN2` model. The TensorBoard shows that the loss is decreasing faster, and the validation accuracy starts off higher, but increases at the relatively same rate as before. We can also see that the training accuracy is about the same, so it is not overfitting yet. Let's try running it on 50 epochs:"
   ]
  },
  {
   "cell_type": "code",
   "execution_count": 51,
   "id": "421faca0",
   "metadata": {},
   "outputs": [
    {
     "name": "stderr",
     "output_type": "stream",
     "text": [
      " 10%|█         | 5/50 [00:43<06:35,  8.79s/it]"
     ]
    },
    {
     "name": "stdout",
     "output_type": "stream",
     "text": [
      "Epoch: 4 Validation accuracy: 0.6308121085166931\n"
     ]
    },
    {
     "name": "stderr",
     "output_type": "stream",
     "text": [
      " 20%|██        | 10/50 [01:28<05:52,  8.81s/it]"
     ]
    },
    {
     "name": "stdout",
     "output_type": "stream",
     "text": [
      "Epoch: 9 Validation accuracy: 0.6779458522796631\n"
     ]
    },
    {
     "name": "stderr",
     "output_type": "stream",
     "text": [
      " 30%|███       | 15/50 [02:10<05:02,  8.63s/it]"
     ]
    },
    {
     "name": "stdout",
     "output_type": "stream",
     "text": [
      "Epoch: 14 Validation accuracy: 0.6956143975257874\n"
     ]
    },
    {
     "name": "stderr",
     "output_type": "stream",
     "text": [
      " 40%|████      | 20/50 [02:55<04:24,  8.81s/it]"
     ]
    },
    {
     "name": "stdout",
     "output_type": "stream",
     "text": [
      "Epoch: 19 Validation accuracy: 0.7077279090881348\n"
     ]
    },
    {
     "name": "stderr",
     "output_type": "stream",
     "text": [
      " 50%|█████     | 25/50 [03:38<03:36,  8.66s/it]"
     ]
    },
    {
     "name": "stdout",
     "output_type": "stream",
     "text": [
      "Epoch: 24 Validation accuracy: 0.7146615982055664\n"
     ]
    },
    {
     "name": "stderr",
     "output_type": "stream",
     "text": [
      " 60%|██████    | 30/50 [04:19<02:45,  8.29s/it]"
     ]
    },
    {
     "name": "stdout",
     "output_type": "stream",
     "text": [
      "Epoch: 29 Validation accuracy: 0.7206077575683594\n"
     ]
    },
    {
     "name": "stderr",
     "output_type": "stream",
     "text": [
      " 70%|███████   | 35/50 [05:00<02:04,  8.28s/it]"
     ]
    },
    {
     "name": "stdout",
     "output_type": "stream",
     "text": [
      "Epoch: 34 Validation accuracy: 0.72548907995224\n"
     ]
    },
    {
     "name": "stderr",
     "output_type": "stream",
     "text": [
      " 80%|████████  | 40/50 [05:42<01:22,  8.30s/it]"
     ]
    },
    {
     "name": "stdout",
     "output_type": "stream",
     "text": [
      "Epoch: 39 Validation accuracy: 0.7292247414588928\n"
     ]
    },
    {
     "name": "stderr",
     "output_type": "stream",
     "text": [
      " 90%|█████████ | 45/50 [06:23<00:41,  8.26s/it]"
     ]
    },
    {
     "name": "stdout",
     "output_type": "stream",
     "text": [
      "Epoch: 44 Validation accuracy: 0.731050968170166\n"
     ]
    },
    {
     "name": "stderr",
     "output_type": "stream",
     "text": [
      "100%|██████████| 50/50 [07:04<00:00,  8.49s/it]"
     ]
    },
    {
     "name": "stdout",
     "output_type": "stream",
     "text": [
      "Epoch: 49 Validation accuracy: 0.7330613136291504\n"
     ]
    },
    {
     "name": "stderr",
     "output_type": "stream",
     "text": [
      "\n"
     ]
    }
   ],
   "source": [
    "model_cnn2_epochs = train(model_class=CNN2, epochs=50, use_augmentation=True, aug_params=aug_params)"
   ]
  },
  {
   "cell_type": "markdown",
   "id": "5a879816",
   "metadata": {},
   "source": [
    "Looks like the accuracy didn't get much better, so let's ADD MORE LAYERS"
   ]
  },
  {
   "cell_type": "code",
   "execution_count": 59,
   "id": "389a105d",
   "metadata": {},
   "outputs": [],
   "source": [
    "class CNN3(nn.Module):\n",
    "\n",
    "    def __init__(self):\n",
    "        super().__init__()\n",
    "\n",
    "        self.conv1 = nn.Conv2d(3, 8, 3, padding=1)\n",
    "        self.relu1 = nn.ReLU()\n",
    "\n",
    "        # Use stride instead of group\n",
    "        self.conv2 = nn.Conv2d(8, 16, 3, stride=2, padding=1)\n",
    "        self.maxpool1 = nn.MaxPool2d(2, 2)\n",
    "\n",
    "        # Increase kernel size\n",
    "        self.conv3 = nn.Conv2d(16, 32, 3, padding=1)\n",
    "        self.maxpool2 = nn.MaxPool2d(2, 2)\n",
    "\n",
    "        # Increase kernel size\n",
    "        self.conv4 = nn.Conv2d(32, 64, 3, padding=1)\n",
    "        self.maxpool3 = nn.MaxPool2d(2, 2)\n",
    "        \n",
    "        self.conv5 = nn.Conv2d(64, 128, 3, padding=2)\n",
    "        self.maxpool4 = nn.MaxPool2d(2, 2)\n",
    "\n",
    "        # New layer\n",
    "        self.conv6 = nn.Conv2d(128, 256, 2, padding=1)  \n",
    "        self.maxpool5 = nn.MaxPool2d(2, 2)\n",
    "\n",
    "        self.avgpool = nn.AdaptiveAvgPool2d(4)\n",
    "        self.flatten = nn.Flatten()\n",
    "        self.fc = nn.Linear(4*4*256, 10)\n",
    "\n",
    "        # Change output size\n",
    "        self.avgpool = nn.AdaptiveAvgPool2d(4)\n",
    "        self.flatten = nn.Flatten()\n",
    "        self.fc = nn.Linear(4*4*256, 10)\n",
    "\n",
    "    def forward(self, x):\n",
    "        x = self.conv1(x)\n",
    "        x = self.relu1(x)\n",
    "        x = self.conv2(x)\n",
    "        x = self.maxpool1(x)\n",
    "        x = self.conv3(x)\n",
    "        x = self.maxpool2(x)\n",
    "        x = self.conv4(x)\n",
    "        x = self.maxpool3(x)\n",
    "        x = self.conv5(x)\n",
    "        x = self.maxpool4(x)\n",
    "        x = self.conv6(x)\n",
    "        x = self.maxpool5(x)\n",
    "        x = self.avgpool(x)\n",
    "        x = self.flatten(x)\n",
    "        x = self.fc(x)\n",
    "        return x"
   ]
  },
  {
   "cell_type": "markdown",
   "id": "b7fb3d42",
   "metadata": {},
   "source": [
    "In the `CNN3` network, I have added a new 6th layer, increased kernel size in some layers, and used stride instead of group in layer 2, maybe that will help a deeper network with extracting more features once the image is downsampled. Or it might become worse because it lost information. Let's test it!"
   ]
  },
  {
   "cell_type": "code",
   "execution_count": 60,
   "id": "aa015b45",
   "metadata": {},
   "outputs": [
    {
     "name": "stderr",
     "output_type": "stream",
     "text": [
      "  0%|          | 0/20 [00:00<?, ?it/s]"
     ]
    },
    {
     "name": "stderr",
     "output_type": "stream",
     "text": [
      " 25%|██▌       | 5/20 [00:45<02:14,  8.99s/it]"
     ]
    },
    {
     "name": "stdout",
     "output_type": "stream",
     "text": [
      "Epoch: 4 Validation accuracy: 0.5740246772766113\n"
     ]
    },
    {
     "name": "stderr",
     "output_type": "stream",
     "text": [
      " 50%|█████     | 10/20 [01:29<01:28,  8.86s/it]"
     ]
    },
    {
     "name": "stdout",
     "output_type": "stream",
     "text": [
      "Epoch: 9 Validation accuracy: 0.6296078562736511\n"
     ]
    },
    {
     "name": "stderr",
     "output_type": "stream",
     "text": [
      " 75%|███████▌  | 15/20 [02:14<00:44,  8.84s/it]"
     ]
    },
    {
     "name": "stdout",
     "output_type": "stream",
     "text": [
      "Epoch: 14 Validation accuracy: 0.6557789444923401\n"
     ]
    },
    {
     "name": "stderr",
     "output_type": "stream",
     "text": [
      "100%|██████████| 20/20 [02:58<00:00,  8.92s/it]"
     ]
    },
    {
     "name": "stdout",
     "output_type": "stream",
     "text": [
      "Epoch: 19 Validation accuracy: 0.6661524772644043\n"
     ]
    },
    {
     "name": "stderr",
     "output_type": "stream",
     "text": [
      "\n"
     ]
    }
   ],
   "source": [
    "model_cnn3 = train(model_class=CNN3, epochs=20, use_augmentation=True, aug_params=aug_params)"
   ]
  },
  {
   "cell_type": "markdown",
   "id": "a9ad23bc",
   "metadata": {},
   "source": [
    "This model performs significantly worse, despite more layers. Let's bring back grouping."
   ]
  },
  {
   "cell_type": "code",
   "execution_count": 65,
   "id": "5370a9fa",
   "metadata": {},
   "outputs": [],
   "source": [
    "class CNN4(nn.Module):\n",
    "\n",
    "    def __init__(self):\n",
    "        super().__init__()\n",
    "\n",
    "        self.conv1 = nn.Conv2d(3, 8, 3, padding=1)\n",
    "        self.relu1 = nn.ReLU()\n",
    "\n",
    "        # Bring grouping back\n",
    "        self.conv2 = nn.Conv2d(8, 16, 3, groups=2, padding=1)\n",
    "        self.maxpool1 = nn.MaxPool2d(2, 2)\n",
    "\n",
    "        # Increase kernel size\n",
    "        self.conv3 = nn.Conv2d(16, 32, 3, padding=1)\n",
    "        self.maxpool2 = nn.MaxPool2d(2, 2)\n",
    "\n",
    "        # Increase kernel size\n",
    "        self.conv4 = nn.Conv2d(32, 64, 3, padding=1)\n",
    "        self.maxpool3 = nn.MaxPool2d(2, 2)\n",
    "        \n",
    "        self.conv5 = nn.Conv2d(64, 128, 3, padding=2)\n",
    "        self.maxpool4 = nn.MaxPool2d(2, 2)\n",
    "\n",
    "        # New layer\n",
    "        self.conv6 = nn.Conv2d(128, 256, 2, padding=1)  \n",
    "        self.maxpool5 = nn.MaxPool2d(2, 2)\n",
    "\n",
    "        self.avgpool = nn.AdaptiveAvgPool2d(4)\n",
    "        self.flatten = nn.Flatten()\n",
    "        self.fc = nn.Linear(4*4*256, 10)\n",
    "\n",
    "        # Change output size\n",
    "        self.avgpool = nn.AdaptiveAvgPool2d(4)\n",
    "        self.flatten = nn.Flatten()\n",
    "        self.fc = nn.Linear(4*4*256, 10)\n",
    "\n",
    "    def forward(self, x):\n",
    "        x = self.conv1(x)\n",
    "        x = self.relu1(x)\n",
    "        x = self.conv2(x)\n",
    "        x = self.maxpool1(x)\n",
    "        x = self.conv3(x)\n",
    "        x = self.maxpool2(x)\n",
    "        x = self.conv4(x)\n",
    "        x = self.maxpool3(x)\n",
    "        x = self.conv5(x)\n",
    "        x = self.maxpool4(x)\n",
    "        x = self.conv6(x)\n",
    "        x = self.maxpool5(x)\n",
    "        x = self.avgpool(x)\n",
    "        x = self.flatten(x)\n",
    "        x = self.fc(x)\n",
    "        return x"
   ]
  },
  {
   "cell_type": "markdown",
   "id": "5c00401b",
   "metadata": {},
   "source": [
    "Let's try it out:"
   ]
  },
  {
   "cell_type": "code",
   "execution_count": 68,
   "id": "7ee46400",
   "metadata": {},
   "outputs": [
    {
     "name": "stderr",
     "output_type": "stream",
     "text": [
      " 25%|██▌       | 5/20 [00:49<02:28,  9.88s/it]"
     ]
    },
    {
     "name": "stdout",
     "output_type": "stream",
     "text": [
      "Epoch: 4 Validation accuracy: 0.6454418897628784\n"
     ]
    },
    {
     "name": "stderr",
     "output_type": "stream",
     "text": [
      " 50%|█████     | 10/20 [01:39<01:39,  9.96s/it]"
     ]
    },
    {
     "name": "stdout",
     "output_type": "stream",
     "text": [
      "Epoch: 9 Validation accuracy: 0.6910927295684814\n"
     ]
    },
    {
     "name": "stderr",
     "output_type": "stream",
     "text": [
      " 75%|███████▌  | 15/20 [02:28<00:49,  9.81s/it]"
     ]
    },
    {
     "name": "stdout",
     "output_type": "stream",
     "text": [
      "Epoch: 14 Validation accuracy: 0.7107285261154175\n"
     ]
    },
    {
     "name": "stderr",
     "output_type": "stream",
     "text": [
      "100%|██████████| 20/20 [03:17<00:00,  9.88s/it]"
     ]
    },
    {
     "name": "stdout",
     "output_type": "stream",
     "text": [
      "Epoch: 19 Validation accuracy: 0.721471905708313\n"
     ]
    },
    {
     "name": "stderr",
     "output_type": "stream",
     "text": [
      "\n"
     ]
    }
   ],
   "source": [
    "model_cnn4 = train(model_class=CNN4, epochs=20, use_augmentation=True, aug_params=aug_params)"
   ]
  },
  {
   "cell_type": "markdown",
   "id": "043e914a",
   "metadata": {},
   "source": [
    "Yay! 72% accuracy, with validation accuracy increasing faster than the best-performing `CNN2` model. Let's try to design a final `CNN5`:"
   ]
  },
  {
   "cell_type": "code",
   "execution_count": 72,
   "id": "7e00d4f4",
   "metadata": {},
   "outputs": [],
   "source": [
    "class CNN5(nn.Module):\n",
    "\n",
    "    def __init__(self):\n",
    "        super().__init__()\n",
    "\n",
    "        # Give more padding\n",
    "        self.conv1 = nn.Conv2d(3, 8, 3, padding=2)\n",
    "        self.relu1 = nn.ReLU()\n",
    "\n",
    "        # Use paffing = 'same\n",
    "        self.conv2 = nn.Conv2d(8, 16, 3, groups=2, padding='same')\n",
    "        self.maxpool1 = nn.MaxPool2d(2, 2)\n",
    "\n",
    "        # More padding\n",
    "        self.conv3 = nn.Conv2d(16, 32, 3, padding=2)\n",
    "        self.maxpool2 = nn.MaxPool2d(2, 2)\n",
    "\n",
    "        # Use padding = 'same'\n",
    "        self.conv4 = nn.Conv2d(32, 64, 3, padding='same')\n",
    "        self.maxpool3 = nn.MaxPool2d(2, 2)\n",
    "        \n",
    "        self.conv5 = nn.Conv2d(64, 128, 3, padding=2)\n",
    "        self.maxpool4 = nn.MaxPool2d(2, 2)\n",
    "\n",
    "        # Use padding = 'same'\n",
    "        self.conv6 = nn.Conv2d(128, 256, 2, padding='same')  \n",
    "        self.maxpool5 = nn.MaxPool2d(2, 2)\n",
    "\n",
    "        self.avgpool = nn.AdaptiveAvgPool2d(4)\n",
    "        self.flatten = nn.Flatten()\n",
    "        self.fc = nn.Linear(4*4*256, 10)\n",
    "\n",
    "        # Change output size\n",
    "        self.avgpool = nn.AdaptiveAvgPool2d(4)\n",
    "        self.flatten = nn.Flatten()\n",
    "        self.fc = nn.Linear(4*4*256, 10)\n",
    "\n",
    "    def forward(self, x):\n",
    "        x = self.conv1(x)\n",
    "        x = self.relu1(x)\n",
    "        x = self.conv2(x)\n",
    "        x = self.maxpool1(x)\n",
    "        x = self.conv3(x)\n",
    "        x = self.maxpool2(x)\n",
    "        x = self.conv4(x)\n",
    "        x = self.maxpool3(x)\n",
    "        x = self.conv5(x)\n",
    "        x = self.maxpool4(x)\n",
    "        x = self.conv6(x)\n",
    "        x = self.maxpool5(x)\n",
    "        x = self.avgpool(x)\n",
    "        x = self.flatten(x)\n",
    "        x = self.fc(x)\n",
    "        return x"
   ]
  },
  {
   "cell_type": "markdown",
   "id": "f8ef9b58",
   "metadata": {},
   "source": [
    "Let's try it:"
   ]
  },
  {
   "cell_type": "code",
   "execution_count": 73,
   "id": "6ec58d88",
   "metadata": {},
   "outputs": [
    {
     "name": "stderr",
     "output_type": "stream",
     "text": [
      "  0%|          | 0/20 [00:00<?, ?it/s]/Users/simanerush/anaconda3/envs/dl-class/lib/python3.11/site-packages/torch/nn/modules/conv.py:456: UserWarning: Using padding='same' with even kernel lengths and odd dilation may require a zero-padded copy of the input be created (Triggered internally at /private/var/folders/k1/30mswbxs7r1g6zwn8y4fyt500000gp/T/abs_52h9q6gsr9/croot/pytorch-select_1707258249748/work/aten/src/ATen/native/Convolution.cpp:1041.)\n",
      "  return F.conv2d(input, weight, bias, self.stride,\n",
      " 25%|██▌       | 5/20 [00:49<02:27,  9.80s/it]"
     ]
    },
    {
     "name": "stdout",
     "output_type": "stream",
     "text": [
      "Epoch: 4 Validation accuracy: 0.631349503993988\n"
     ]
    },
    {
     "name": "stderr",
     "output_type": "stream",
     "text": [
      " 50%|█████     | 10/20 [01:37<01:35,  9.53s/it]"
     ]
    },
    {
     "name": "stdout",
     "output_type": "stream",
     "text": [
      "Epoch: 9 Validation accuracy: 0.6717555522918701\n"
     ]
    },
    {
     "name": "stderr",
     "output_type": "stream",
     "text": [
      " 75%|███████▌  | 15/20 [02:24<00:47,  9.48s/it]"
     ]
    },
    {
     "name": "stdout",
     "output_type": "stream",
     "text": [
      "Epoch: 14 Validation accuracy: 0.6880506873130798\n"
     ]
    },
    {
     "name": "stderr",
     "output_type": "stream",
     "text": [
      "100%|██████████| 20/20 [03:11<00:00,  9.60s/it]"
     ]
    },
    {
     "name": "stdout",
     "output_type": "stream",
     "text": [
      "Epoch: 19 Validation accuracy: 0.6929289698600769\n"
     ]
    },
    {
     "name": "stderr",
     "output_type": "stream",
     "text": [
      "\n"
     ]
    }
   ],
   "source": [
    "model_cnn5 = train(model_class=CNN5, epochs=20, use_augmentation=True, aug_params=aug_params)"
   ]
  },
  {
   "cell_type": "markdown",
   "id": "11662504",
   "metadata": {},
   "source": [
    "There's no improvement of adding padding, so let's stick with `CNN4` as the final model and train it on 100 epochs."
   ]
  },
  {
   "cell_type": "code",
   "execution_count": 74,
   "id": "29d3ccf8",
   "metadata": {},
   "outputs": [
    {
     "name": "stderr",
     "output_type": "stream",
     "text": [
      "  5%|▌         | 5/100 [00:47<15:01,  9.49s/it]"
     ]
    },
    {
     "name": "stdout",
     "output_type": "stream",
     "text": [
      "Epoch: 4 Validation accuracy: 0.6411823034286499\n"
     ]
    },
    {
     "name": "stderr",
     "output_type": "stream",
     "text": [
      " 10%|█         | 10/100 [01:34<14:11,  9.46s/it]"
     ]
    },
    {
     "name": "stdout",
     "output_type": "stream",
     "text": [
      "Epoch: 9 Validation accuracy: 0.6910430192947388\n"
     ]
    },
    {
     "name": "stderr",
     "output_type": "stream",
     "text": [
      " 15%|█▌        | 15/100 [02:22<13:23,  9.46s/it]"
     ]
    },
    {
     "name": "stdout",
     "output_type": "stream",
     "text": [
      "Epoch: 14 Validation accuracy: 0.7100782990455627\n"
     ]
    },
    {
     "name": "stderr",
     "output_type": "stream",
     "text": [
      " 20%|██        | 20/100 [03:09<12:36,  9.45s/it]"
     ]
    },
    {
     "name": "stdout",
     "output_type": "stream",
     "text": [
      "Epoch: 19 Validation accuracy: 0.7205961346626282\n"
     ]
    },
    {
     "name": "stderr",
     "output_type": "stream",
     "text": [
      " 25%|██▌       | 25/100 [03:56<11:50,  9.47s/it]"
     ]
    },
    {
     "name": "stdout",
     "output_type": "stream",
     "text": [
      "Epoch: 24 Validation accuracy: 0.7256727814674377\n"
     ]
    },
    {
     "name": "stderr",
     "output_type": "stream",
     "text": [
      " 30%|███       | 30/100 [04:44<11:02,  9.46s/it]"
     ]
    },
    {
     "name": "stdout",
     "output_type": "stream",
     "text": [
      "Epoch: 29 Validation accuracy: 0.7284235954284668\n"
     ]
    },
    {
     "name": "stderr",
     "output_type": "stream",
     "text": [
      " 35%|███▌      | 35/100 [05:32<10:18,  9.52s/it]"
     ]
    },
    {
     "name": "stdout",
     "output_type": "stream",
     "text": [
      "Epoch: 34 Validation accuracy: 0.7315570712089539\n"
     ]
    },
    {
     "name": "stderr",
     "output_type": "stream",
     "text": [
      " 40%|████      | 40/100 [06:21<09:47,  9.78s/it]"
     ]
    },
    {
     "name": "stdout",
     "output_type": "stream",
     "text": [
      "Epoch: 39 Validation accuracy: 0.7336435317993164\n"
     ]
    },
    {
     "name": "stderr",
     "output_type": "stream",
     "text": [
      " 45%|████▌     | 45/100 [07:08<08:45,  9.56s/it]"
     ]
    },
    {
     "name": "stdout",
     "output_type": "stream",
     "text": [
      "Epoch: 44 Validation accuracy: 0.7347885966300964\n"
     ]
    },
    {
     "name": "stderr",
     "output_type": "stream",
     "text": [
      " 50%|█████     | 50/100 [07:55<07:53,  9.47s/it]"
     ]
    },
    {
     "name": "stdout",
     "output_type": "stream",
     "text": [
      "Epoch: 49 Validation accuracy: 0.7370680570602417\n"
     ]
    },
    {
     "name": "stderr",
     "output_type": "stream",
     "text": [
      " 55%|█████▌    | 55/100 [08:43<07:05,  9.45s/it]"
     ]
    },
    {
     "name": "stdout",
     "output_type": "stream",
     "text": [
      "Epoch: 54 Validation accuracy: 0.7377623915672302\n"
     ]
    },
    {
     "name": "stderr",
     "output_type": "stream",
     "text": [
      " 60%|██████    | 60/100 [09:30<06:17,  9.44s/it]"
     ]
    },
    {
     "name": "stdout",
     "output_type": "stream",
     "text": [
      "Epoch: 59 Validation accuracy: 0.7384836077690125\n"
     ]
    },
    {
     "name": "stderr",
     "output_type": "stream",
     "text": [
      " 65%|██████▌   | 65/100 [10:17<05:31,  9.47s/it]"
     ]
    },
    {
     "name": "stdout",
     "output_type": "stream",
     "text": [
      "Epoch: 64 Validation accuracy: 0.7399803996086121\n"
     ]
    },
    {
     "name": "stderr",
     "output_type": "stream",
     "text": [
      " 70%|███████   | 70/100 [11:05<04:43,  9.46s/it]"
     ]
    },
    {
     "name": "stdout",
     "output_type": "stream",
     "text": [
      "Epoch: 69 Validation accuracy: 0.7414084076881409\n"
     ]
    },
    {
     "name": "stderr",
     "output_type": "stream",
     "text": [
      " 75%|███████▌  | 75/100 [11:51<03:54,  9.37s/it]"
     ]
    },
    {
     "name": "stdout",
     "output_type": "stream",
     "text": [
      "Epoch: 74 Validation accuracy: 0.7417781352996826\n"
     ]
    },
    {
     "name": "stderr",
     "output_type": "stream",
     "text": [
      " 80%|████████  | 80/100 [12:38<03:07,  9.38s/it]"
     ]
    },
    {
     "name": "stdout",
     "output_type": "stream",
     "text": [
      "Epoch: 79 Validation accuracy: 0.7423853278160095\n"
     ]
    },
    {
     "name": "stderr",
     "output_type": "stream",
     "text": [
      " 85%|████████▌ | 85/100 [13:25<02:20,  9.39s/it]"
     ]
    },
    {
     "name": "stdout",
     "output_type": "stream",
     "text": [
      "Epoch: 84 Validation accuracy: 0.7426950931549072\n"
     ]
    },
    {
     "name": "stderr",
     "output_type": "stream",
     "text": [
      " 90%|█████████ | 90/100 [14:12<01:33,  9.39s/it]"
     ]
    },
    {
     "name": "stdout",
     "output_type": "stream",
     "text": [
      "Epoch: 89 Validation accuracy: 0.742591142654419\n"
     ]
    },
    {
     "name": "stderr",
     "output_type": "stream",
     "text": [
      " 95%|█████████▌| 95/100 [14:59<00:46,  9.39s/it]"
     ]
    },
    {
     "name": "stdout",
     "output_type": "stream",
     "text": [
      "Epoch: 94 Validation accuracy: 0.742329478263855\n"
     ]
    },
    {
     "name": "stderr",
     "output_type": "stream",
     "text": [
      "100%|██████████| 100/100 [15:48<00:00,  9.48s/it]"
     ]
    },
    {
     "name": "stdout",
     "output_type": "stream",
     "text": [
      "Epoch: 99 Validation accuracy: 0.7425228953361511\n"
     ]
    },
    {
     "name": "stderr",
     "output_type": "stream",
     "text": [
      "\n"
     ]
    }
   ],
   "source": [
    "model_cnn4_epochs = train(model_class=CNN4, epochs=100, use_augmentation=True, aug_params=aug_params)"
   ]
  },
  {
   "cell_type": "markdown",
   "id": "3dac7d46",
   "metadata": {},
   "source": [
    "With 100 epochs, the accuracy is 74%, which is pretty good. I think that now I understand how different changes in both hyperparameters and model architecture change its accuracy."
   ]
  },
  {
   "cell_type": "markdown",
   "id": "2a6c3639",
   "metadata": {},
   "source": [
    "## Conclusion\n",
    "Even though adding more epochs did not change accuracy that much, we see that adding more layers to a CNN network, and removing strides to avoid downsampling too aggressively, makes a positive impact on the accuracy.\n",
    "Visualization:"
   ]
  },
  {
   "cell_type": "code",
   "execution_count": 83,
   "id": "43564bdc",
   "metadata": {},
   "outputs": [
    {
     "data": {
      "image/png": "[encoded data removed]",
      "text/plain": [
       "<Figure size 800x800 with 5 Axes>"
      ]
     },
     "metadata": {},
     "output_type": "display_data"
    }
   ],
   "source": [
    "fig, axs = plt.subplots(1, 5, figsize=(8, 8))\n",
    "for i in range(5):\n",
    "    r = torch.randint(len(cifar), (1,)).item()\n",
    "    cifar_gpu = (cifar[r][0]).unsqueeze(0).to(device)\n",
    "\n",
    "    preds = nn.functional.softmax(model_cnn4_epochs(normalize(cifar_gpu)), dim=1)\n",
    "        \n",
    "    preds = preds.cpu()\n",
    "    c = torch.argmax(preds)\n",
    "    prob = preds[0, c].item()  # Get probability of the predicted class\n",
    "\n",
    "    axs[i].imshow(cifar[r][0].numpy().transpose(1, 2, 0))\n",
    "    axs[i].set_title(\"{}: {:.2f}\".format(classes[c], prob))\n",
    "\n",
    "plt.show()"
   ]
  }
 ],
 "metadata": {
  "kernelspec": {
   "display_name": "Python 3 (ipykernel)",
   "language": "python",
   "name": "python3"
  },
  "language_info": {
   "codemirror_mode": {
    "name": "ipython",
    "version": 3
   },
   "file_extension": ".py",
   "mimetype": "text/x-python",
   "name": "python",
   "nbconvert_exporter": "python",
   "pygments_lexer": "ipython3",
   "version": "3.11.8"
  }
 },
 "nbformat": 4,
 "nbformat_minor": 5
}
